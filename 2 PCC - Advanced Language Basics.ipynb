{
 "cells": [
  {
   "cell_type": "code",
   "execution_count": 2,
   "metadata": {},
   "outputs": [
    {
     "name": "stdout",
     "output_type": "stream",
     "text": [
      "Counter({0: 2, 1: 1, 2: 1})\n",
      "Python 2\n",
      "crash 1\n",
      "course 1\n",
      "from 1\n",
      "scratch 1\n"
     ]
    }
   ],
   "source": [
    "# Counters: Turns a sequence of values into a defaultdict(int)-like object\n",
    "from collections import Counter\n",
    "count = Counter([0, 1, 2, 0])\n",
    "print(count)\n",
    "\n",
    "document = [\"Python\", \"crash\", \"course\", \"from\", \"Python\", \"scratch\"]\n",
    "word_counts = Counter(document)\n",
    "for word, count in word_counts.most_common(10):\n",
    "    print(word, count)"
   ]
  },
  {
   "cell_type": "code",
   "execution_count": 3,
   "metadata": {},
   "outputs": [
    {
     "name": "stdout",
     "output_type": "stream",
     "text": [
      "a\n",
      "b\n",
      "c\n",
      "<dict_keyiterator object at 0x000001DF16B09688>\n",
      "['a', 'b', 'c'] \n",
      "\n",
      "<generator object squares at 0x000001DF16AD48B8>\n",
      "Generation squares from 1 to 100\n",
      "1 4 9 16 25 36 49 64 81 100 \n",
      "\n"
     ]
    }
   ],
   "source": [
    "# Iterators and Generators\n",
    "# Iterator Protocol - make objects iterable\n",
    "some_dict = {'a': 1, 'b': 2, 'c': 3}\n",
    "for key in some_dict:            # create an iterator out of some_dict\n",
    "    print(key)\n",
    "    \n",
    "dict_iterator = iter(some_dict)  # explicit creation of an interator\n",
    "print(dict_iterator)             # dict_iterator is an iterator object\n",
    "print(list(dict_iterator), '\\n') # Lists and Tuples accept iterable objects\n",
    "\n",
    "# Generators construct new iterable objects. Use 'yield' keyword instead of\n",
    "# 'return' which creates lazy sequences\n",
    "def squares(n = 10):\n",
    "    print(f'Generation squares from 1 to {n ** 2}')\n",
    "    for i in range(1, n + 1):\n",
    "        yield i ** 2            # yield creates objects as they are needed\n",
    "\n",
    "# Lazy means no code is generated until elements are requested\n",
    "gen = squares()\n",
    "print(gen)\n",
    "\n",
    "for x in gen: # The 'for' loop requests objects where code is then executed\n",
    "    print(x, end = ' ')  # replace newline '\\n' with ' ' character\n",
    "print('\\n')"
   ]
  },
  {
   "cell_type": "code",
   "execution_count": 4,
   "metadata": {},
   "outputs": [
    {
     "name": "stdout",
     "output_type": "stream",
     "text": [
      "0 1 4 9 16 25 36 49 64 81 100 121 144 169 196 225 256 289 324 361 400 441 484 529 576 625 676 729 784 841 900 961 1024 1089 1156 1225 1296 1369 1444 1521 1600 1681 1764 1849 1936 2025 2116 2209 2304 2401 2500 2601 2704 2809 2916 3025 3136 3249 3364 3481 3600 3721 3844 3969 4096 4225 4356 4489 4624 4761 4900 5041 5184 5329 5476 5625 5776 5929 6084 6241 6400 6561 6724 6889 7056 7225 7396 7569 7744 7921 8100 8281 8464 8649 8836 9025 9216 9409 9604 \n",
      "\n",
      "0 1 4 9 16 25 36 49 64 81 100 121 144 169 196 225 256 289 324 361 400 441 484 529 576 625 676 729 784 841 900 961 1024 1089 1156 1225 1296 1369 1444 1521 1600 1681 1764 1849 1936 2025 2116 2209 2304 2401 2500 2601 2704 2809 2916 3025 3136 3249 3364 3481 3600 3721 3844 3969 4096 4225 4356 4489 4624 4761 4900 5041 5184 5329 5476 5625 5776 5929 6084 6241 6400 6561 6724 6889 7056 7225 7396 7569 7744 7921 8100 8281 8464 8649 8836 9025 9216 9409 9604 \n",
      "\n",
      "0 1 4 9 16 25 36 49 64 81 100 121 144 169 196 225 256 289 324 361 400 441 484 529 576 625 676 729 784 841 900 961 1024 1089 1156 1225 1296 1369 1444 1521 1600 1681 1764 1849 1936 2025 2116 2209 2304 2401 2500 2601 2704 2809 2916 3025 3136 3249 3364 3481 3600 3721 3844 3969 4096 4225 4356 4489 4624 4761 4900 5041 5184 5329 5476 5625 5776 5929 6084 6241 6400 6561 6724 6889 7056 7225 7396 7569 7744 7921 8100 8281 8464 8649 8836 9025 9216 9409 9604 \n",
      "\n",
      "0 2 4 6 8 10 12 14 16 18 \n",
      "\n"
     ]
    }
   ],
   "source": [
    "# Generators have expressions which are similar to comprehensions\n",
    "# PCC Data Structures discusses List, Set and Dict comprehensions\n",
    "# Enclose a generation expression in '()' and a comprehension in '[]'\n",
    "\n",
    "# Previous way to create a generator\n",
    "def _make_gen():\n",
    "    for x in range(99):\n",
    "        yield x ** 2\n",
    "        \n",
    "gen = _make_gen()\n",
    "for x in gen: # The 'for' loop requests objects where code is then executed\n",
    "    print(x, end = ' ') \n",
    "print('\\n')\n",
    "  \n",
    "# an option is to call the generator in the for loop. \n",
    "for x in _make_gen(): \n",
    "    print(x, end = ' ')\n",
    "print('\\n')\n",
    "\n",
    "# New way to make a generator\n",
    "# Create a generator using a generator expression (e.g. for comprehension)\n",
    "# gen = (x ** 2 for x in range(99)) - shorter to create genetrator in 'for'\n",
    "for x in (x ** 2 for x in range(99)): \n",
    "    print(x, end = ' ')\n",
    "print('\\n')\n",
    "\n",
    "# a bit more complicated generator expression example\n",
    "evens_below_20 = (i for i in range(20) if i % 2 == 0)\n",
    "for x in evens_below_20: \n",
    "    print(x, end = ' ')\n",
    "print('\\n')"
   ]
  },
  {
   "cell_type": "code",
   "execution_count": 5,
   "metadata": {},
   "outputs": [
    {
     "name": "stdout",
     "output_type": "stream",
     "text": [
      "328350\n",
      "{0: 0, 1: 1, 2: 4, 3: 9, 4: 16} \n",
      "\n",
      "name 0, is Alan\n",
      "name 1, is Adam\n",
      "name 2, is Wes\n",
      "name 3, is Will\n",
      "name 4, is Albert\n",
      "name 5, is Steven\n",
      "\n",
      "A ['Alan', 'Adam']\n",
      "W ['Wes', 'Will']\n",
      "A ['Albert']\n",
      "S ['Steven']\n"
     ]
    }
   ],
   "source": [
    "# Use of a generator expression instead of a list comprehension\n",
    "print(sum(x ** 2 for x in range(100)))\n",
    "print(dict((i, i ** 2) for i in range(5)), '\\n')\n",
    "\n",
    "#enumerate function: get values & indicies from a list for use by generator\n",
    "names = ['Alan', 'Adam', 'Wes', 'Will', 'Albert', 'Steven']\n",
    "for i, name in enumerate(names):\n",
    "    print(f\"name {i}, is {name}\")\n",
    "print()\n",
    "\n",
    "# itertools module = Contains a collection of generators\n",
    "# https://docs.python.org/3/library/itertools.html\n",
    "import itertools\n",
    "\n",
    "# Example: groupby = groupby( iterable[, keyfunc])\n",
    "# lambda functions are covered in a later chapter\n",
    "first_letter = lambda x: x[0]\n",
    "\n",
    "for letter, names in itertools.groupby(names, first_letter):\n",
    "    print(letter, list(names))"
   ]
  },
  {
   "cell_type": "code",
   "execution_count": 6,
   "metadata": {},
   "outputs": [
    {
     "name": "stdout",
     "output_type": "stream",
     "text": [
      "[0.5714025946899135, 0.4288890546751146, 0.5780913011344704, 0.20609823213950174] \n",
      "\n",
      "7\n",
      "4 \n",
      "\n",
      "[1, 2, 3, 4, 5, 6, 7, 8, 9, 10]\n",
      "[4, 5, 6, 7, 2, 9, 10, 8, 1, 3] \n",
      "\n",
      "Adam \n",
      "\n",
      "[38, 22, 24, 26, 18, 52]\n",
      "[4, 7, 2, 4]\n"
     ]
    }
   ],
   "source": [
    "# Randomness - random module\n",
    "import random\n",
    "random.seed(10) # allow repeatability using psuedorandom numbers\n",
    "\n",
    "# random.random() creates numbers between 0 and 1\n",
    "print([random.random() for _ in range(4)], '\\n')  \n",
    "\n",
    "# randomly pick from a range of numbers\n",
    "print(random.randrange(10))  # pick from range 0 - 10 (not inclusive of 10)\n",
    "print(random.randrange(3, 6), '\\n') # start at 3 and enumumerate range to 5\n",
    "\n",
    "# random.shuffle(): randomly reorders elements in a list\n",
    "up_to_ten = [1, 2, 3, 4, 5, 6, 7, 8, 9, 10]\n",
    "print(up_to_ten)\n",
    "random.shuffle(up_to_ten)\n",
    "print(up_to_ten, '\\n')\n",
    "\n",
    "# random.choice(): randomly pick from a list\n",
    "names = ['Alan', 'Adam', 'Wes', 'Will', 'Albert', 'Steven']\n",
    "print(random.choice(names), '\\n')\n",
    "\n",
    "# random.sample(): randomly pick from elements with no duplication\n",
    "lottery_numbers = range(60)\n",
    "print(random.sample(lottery_numbers, 6))\n",
    "\n",
    "# randomly pick from elements with duplication\n",
    "four_with_replacement = [random.choice(range(10)) for _ in range(4)]\n",
    "print(four_with_replacement)"
   ]
  },
  {
   "cell_type": "code",
   "execution_count": 7,
   "metadata": {},
   "outputs": [
    {
     "name": "stdout",
     "output_type": "stream",
     "text": [
      "True\n",
      "False \n",
      "\n",
      "first_char =  T\n",
      "safe_x =  0 \n",
      "\n",
      "True\n",
      "False\n",
      "True\n",
      "\n",
      "True\n",
      "False\n"
     ]
    }
   ],
   "source": [
    "# Truthiness\n",
    "one_is_less_than_two = 1 < 2       # equals True\n",
    "print(one_is_less_than_two)\n",
    "true_equals_false = True == False  # equals False\n",
    "print(true_equals_false, '\\n')\n",
    "\n",
    "x = None\n",
    "# assert is discussed below\n",
    "assert x == None, \"this is not Pythonic but works\" \n",
    "assert x is None, \"This is the way to check for none\"\n",
    "\n",
    "s = \"This is some string\"\n",
    "# returns s[0] if s is not empty (\"True\") else returns None\n",
    "first_char = s and s[0] \n",
    "print(\"first_char = \", first_char)\n",
    "\n",
    "# returns the number \"0\" if x is 'False' else returns the value of x\n",
    "safe_x = x if x is not None else 0  # one way to do it\n",
    "safe_x = x or 0                     # new way\n",
    "print(\"safe_x = \", safe_x, '\\n')\n",
    "\n",
    "# all() takes an iterable and returns True when every element is truthy\n",
    "print(all([True, 1, {3}]))  # True\n",
    "print(all([True, 1, {}]))   # False, {} is Falsy\n",
    "print(all([]))              # True, no Falsy elements in the list\n",
    "print()\n",
    "# any() returns True when any one element is truthy\n",
    "print(any([True, 1, {}]))  # True, 'True' is truthy\n",
    "print(any([]))               # False, no truthy elements in the list"
   ]
  },
  {
   "cell_type": "code",
   "execution_count": 8,
   "metadata": {},
   "outputs": [
    {
     "ename": "AssertionError",
     "evalue": "1 + 1 = 2 not 3",
     "output_type": "error",
     "traceback": [
      "\u001b[1;31m---------------------------------------------------------------------------\u001b[0m",
      "\u001b[1;31mAssertionError\u001b[0m                            Traceback (most recent call last)",
      "\u001b[1;32m<ipython-input-8-bf5899471088>\u001b[0m in \u001b[0;36m<module>\u001b[1;34m\u001b[0m\n\u001b[0;32m      3\u001b[0m \u001b[1;33m\u001b[0m\u001b[0m\n\u001b[0;32m      4\u001b[0m \u001b[1;32massert\u001b[0m \u001b[1;36m1\u001b[0m \u001b[1;33m+\u001b[0m \u001b[1;36m1\u001b[0m \u001b[1;33m==\u001b[0m \u001b[1;36m2\u001b[0m    \u001b[1;31m# True so no output\u001b[0m\u001b[1;33m\u001b[0m\u001b[1;33m\u001b[0m\u001b[0m\n\u001b[1;32m----> 5\u001b[1;33m \u001b[1;32massert\u001b[0m \u001b[1;36m1\u001b[0m \u001b[1;33m+\u001b[0m \u001b[1;36m1\u001b[0m \u001b[1;33m==\u001b[0m \u001b[1;36m3\u001b[0m\u001b[1;33m,\u001b[0m \u001b[1;34m\"1 + 1 = 2 not 3\"\u001b[0m \u001b[1;31m# adds optional message if failure\u001b[0m\u001b[1;33m\u001b[0m\u001b[1;33m\u001b[0m\u001b[0m\n\u001b[0m",
      "\u001b[1;31mAssertionError\u001b[0m: 1 + 1 = 2 not 3"
     ]
    }
   ],
   "source": [
    "# Automated Testing and Assert\n",
    "# Raise AssertionError if your condition is not truthy\n",
    "\n",
    "assert 1 + 1 == 2    # True so no output\n",
    "assert 1 + 1 == 3, \"1 + 1 = 2 not 3\" # adds optional message if failure"
   ]
  },
  {
   "cell_type": "code",
   "execution_count": 9,
   "metadata": {},
   "outputs": [
    {
     "ename": "AssertionError",
     "evalue": "empty list has no smallest item",
     "output_type": "error",
     "traceback": [
      "\u001b[1;31m---------------------------------------------------------------------------\u001b[0m",
      "\u001b[1;31mAssertionError\u001b[0m                            Traceback (most recent call last)",
      "\u001b[1;32m<ipython-input-9-3039949b09ab>\u001b[0m in \u001b[0;36m<module>\u001b[1;34m\u001b[0m\n\u001b[0;32m     10\u001b[0m     \u001b[1;32massert\u001b[0m \u001b[0mxs\u001b[0m\u001b[1;33m,\u001b[0m \u001b[1;34m\"empty list has no smallest item\"\u001b[0m\u001b[1;33m\u001b[0m\u001b[1;33m\u001b[0m\u001b[0m\n\u001b[0;32m     11\u001b[0m     \u001b[1;32mreturn\u001b[0m \u001b[0mmin\u001b[0m\u001b[1;33m(\u001b[0m\u001b[0mxs\u001b[0m\u001b[1;33m)\u001b[0m\u001b[1;33m\u001b[0m\u001b[1;33m\u001b[0m\u001b[0m\n\u001b[1;32m---> 12\u001b[1;33m \u001b[1;32massert\u001b[0m \u001b[0msmallest_item\u001b[0m\u001b[1;33m(\u001b[0m\u001b[1;33m[\u001b[0m\u001b[1;33m]\u001b[0m\u001b[1;33m)\u001b[0m \u001b[1;33m==\u001b[0m \u001b[1;33m[\u001b[0m\u001b[1;33m]\u001b[0m\u001b[1;33m\u001b[0m\u001b[1;33m\u001b[0m\u001b[0m\n\u001b[0m",
      "\u001b[1;32m<ipython-input-9-3039949b09ab>\u001b[0m in \u001b[0;36msmallest_item\u001b[1;34m(xs)\u001b[0m\n\u001b[0;32m      8\u001b[0m \u001b[1;31m# use assertions to validate parameters to functions\u001b[0m\u001b[1;33m\u001b[0m\u001b[1;33m\u001b[0m\u001b[1;33m\u001b[0m\u001b[0m\n\u001b[0;32m      9\u001b[0m \u001b[1;32mdef\u001b[0m \u001b[0msmallest_item\u001b[0m\u001b[1;33m(\u001b[0m\u001b[0mxs\u001b[0m\u001b[1;33m)\u001b[0m\u001b[1;33m:\u001b[0m\u001b[1;33m\u001b[0m\u001b[1;33m\u001b[0m\u001b[0m\n\u001b[1;32m---> 10\u001b[1;33m     \u001b[1;32massert\u001b[0m \u001b[0mxs\u001b[0m\u001b[1;33m,\u001b[0m \u001b[1;34m\"empty list has no smallest item\"\u001b[0m\u001b[1;33m\u001b[0m\u001b[1;33m\u001b[0m\u001b[0m\n\u001b[0m\u001b[0;32m     11\u001b[0m     \u001b[1;32mreturn\u001b[0m \u001b[0mmin\u001b[0m\u001b[1;33m(\u001b[0m\u001b[0mxs\u001b[0m\u001b[1;33m)\u001b[0m\u001b[1;33m\u001b[0m\u001b[1;33m\u001b[0m\u001b[0m\n\u001b[0;32m     12\u001b[0m \u001b[1;32massert\u001b[0m \u001b[0msmallest_item\u001b[0m\u001b[1;33m(\u001b[0m\u001b[1;33m[\u001b[0m\u001b[1;33m]\u001b[0m\u001b[1;33m)\u001b[0m \u001b[1;33m==\u001b[0m \u001b[1;33m[\u001b[0m\u001b[1;33m]\u001b[0m\u001b[1;33m\u001b[0m\u001b[1;33m\u001b[0m\u001b[0m\n",
      "\u001b[1;31mAssertionError\u001b[0m: empty list has no smallest item"
     ]
    }
   ],
   "source": [
    "# use assertions to test functions.  We'll cover functions in next file\n",
    "def smallest_item(xs):\n",
    "    return min(xs)\n",
    "\n",
    "assert smallest_item([10, 20, 5, 40]) == 5 # should have no output since\n",
    "assert smallest_item([1, 0, -1, 2]) == -1  # both conditions are 'True' \n",
    "\n",
    "# use assertions to validate parameters to functions\n",
    "def smallest_item(xs):\n",
    "    assert xs, \"empty list has no smallest item\"\n",
    "    return min(xs)\n",
    "assert smallest_item([]) == []"
   ]
  },
  {
   "cell_type": "code",
   "execution_count": 10,
   "metadata": {},
   "outputs": [
    {
     "name": "stdout",
     "output_type": "stream",
     "text": [
      "1.2345\n"
     ]
    },
    {
     "ename": "ValueError",
     "evalue": "could not convert string to float: 'something'",
     "output_type": "error",
     "traceback": [
      "\u001b[1;31m---------------------------------------------------------------------------\u001b[0m",
      "\u001b[1;31mValueError\u001b[0m                                Traceback (most recent call last)",
      "\u001b[1;32m<ipython-input-10-c38550d2d72b>\u001b[0m in \u001b[0;36m<module>\u001b[1;34m\u001b[0m\n\u001b[0;32m      1\u001b[0m \u001b[1;31m# Errors and Exception Handling: (continued from chapter 1)\u001b[0m\u001b[1;33m\u001b[0m\u001b[1;33m\u001b[0m\u001b[1;33m\u001b[0m\u001b[0m\n\u001b[0;32m      2\u001b[0m \u001b[0mprint\u001b[0m\u001b[1;33m(\u001b[0m\u001b[0mfloat\u001b[0m\u001b[1;33m(\u001b[0m\u001b[1;34m'1.2345'\u001b[0m\u001b[1;33m)\u001b[0m\u001b[1;33m)\u001b[0m    \u001b[1;31m# ok since 1.2345 is a float\u001b[0m\u001b[1;33m\u001b[0m\u001b[1;33m\u001b[0m\u001b[0m\n\u001b[1;32m----> 3\u001b[1;33m \u001b[0mprint\u001b[0m\u001b[1;33m(\u001b[0m\u001b[0mfloat\u001b[0m\u001b[1;33m(\u001b[0m\u001b[1;34m'something'\u001b[0m\u001b[1;33m)\u001b[0m\u001b[1;33m)\u001b[0m \u001b[1;31m# creates 'ValueError' since 'something' is a str\u001b[0m\u001b[1;33m\u001b[0m\u001b[1;33m\u001b[0m\u001b[0m\n\u001b[0m\u001b[0;32m      4\u001b[0m \u001b[1;31m# Note: code cannot continue. In Jupyter Notebook we have to use a new cell\u001b[0m\u001b[1;33m\u001b[0m\u001b[1;33m\u001b[0m\u001b[1;33m\u001b[0m\u001b[0m\n",
      "\u001b[1;31mValueError\u001b[0m: could not convert string to float: 'something'"
     ]
    }
   ],
   "source": [
    "# Errors and Exception Handling: (continued from chapter 1)\n",
    "print(float('1.2345'))    # ok since 1.2345 is a float\n",
    "print(float('something')) # creates 'ValueError' since 'something' is a str\n",
    "# Note: code cannot continue. In Jupyter Notebook we have to use a new cell"
   ]
  },
  {
   "cell_type": "code",
   "execution_count": 11,
   "metadata": {},
   "outputs": [
    {
     "name": "stdout",
     "output_type": "stream",
     "text": [
      "1.2345\n",
      "something is not a float\n"
     ]
    },
    {
     "ename": "TypeError",
     "evalue": "float() argument must be a string or a number, not 'tuple'",
     "output_type": "error",
     "traceback": [
      "\u001b[1;31m---------------------------------------------------------------------------\u001b[0m",
      "\u001b[1;31mTypeError\u001b[0m                                 Traceback (most recent call last)",
      "\u001b[1;32m<ipython-input-11-c9d3f339a949>\u001b[0m in \u001b[0;36m<module>\u001b[1;34m\u001b[0m\n\u001b[0;32m     10\u001b[0m \u001b[1;33m\u001b[0m\u001b[0m\n\u001b[0;32m     11\u001b[0m \u001b[1;31m# Above float returned 'ValueError' it can also return a \"TypeError\"\u001b[0m\u001b[1;33m\u001b[0m\u001b[1;33m\u001b[0m\u001b[1;33m\u001b[0m\u001b[0m\n\u001b[1;32m---> 12\u001b[1;33m \u001b[0mprint\u001b[0m\u001b[1;33m(\u001b[0m\u001b[0mfloat\u001b[0m\u001b[1;33m(\u001b[0m\u001b[1;33m(\u001b[0m\u001b[1;36m1\u001b[0m\u001b[1;33m,\u001b[0m \u001b[1;36m2\u001b[0m\u001b[1;33m)\u001b[0m\u001b[1;33m)\u001b[0m\u001b[1;33m)\u001b[0m \u001b[1;31m# TypeError triggered by this statement\u001b[0m\u001b[1;33m\u001b[0m\u001b[1;33m\u001b[0m\u001b[0m\n\u001b[0m",
      "\u001b[1;31mTypeError\u001b[0m: float() argument must be a string or a number, not 'tuple'"
     ]
    }
   ],
   "source": [
    "# Fail gracefully we can use a 'try/except' block\n",
    "def attempt_float(x):          # We will go through functions next chapter\n",
    "    try:\n",
    "        return float(x)\n",
    "    except:\n",
    "        return x\n",
    "    \n",
    "print(attempt_float('1.2345'))         # no error since 1.2345 is a 'float'\n",
    "print(attempt_float('something is not a float')) # error caught by 'except'\n",
    "\n",
    "# Above float returned 'ValueError' it can also return a \"TypeError\"\n",
    "print(float((1, 2))) # TypeError triggered by this statement"
   ]
  },
  {
   "cell_type": "code",
   "execution_count": 12,
   "metadata": {},
   "outputs": [
    {
     "name": "stdout",
     "output_type": "stream",
     "text": [
      "(1, 2)\n",
      "Value is not a float type \n",
      "\n",
      "Value must be a float type \n",
      "\n",
      "Successful\n",
      "1.2345\n",
      "Value must be a float type\n",
      "(1, 2)\n"
     ]
    }
   ],
   "source": [
    "# You can trap on a specific Exception by specifying it after 'except'\n",
    "def attempt_float(x):\n",
    "    try:\n",
    "        return float(x)\n",
    "    except TypeError:\n",
    "        return x\n",
    "\n",
    "print(attempt_float((1,2)))\n",
    "\n",
    "# To add a custom message\n",
    "def attempt_float(x):\n",
    "    try:\n",
    "        return float(x)\n",
    "    except TypeError:\n",
    "        print(\"Value is not a float type\",\"\\n\")\n",
    "        return x\n",
    "\n",
    "attempt_float((1,2))\n",
    "\n",
    "# Catching multiple exception types using a tuple of exeception types\n",
    "def attempt_float(x):\n",
    "    try:\n",
    "        return float(x)\n",
    "    except (TypeError, ValueError):\n",
    "        print(\"Value must be a float type\", \"\\n\")\n",
    "        return x\n",
    "\n",
    "attempt_float((1,2))\n",
    "\n",
    "# An option is to use 'finally' to execute an alternate block of code\n",
    "def attempt_float(x):\n",
    "    try:\n",
    "        return float(x)\n",
    "    finally:\n",
    "        print(\"Perform an alternate operation\")\n",
    "        return x\n",
    "\n",
    "# putting this together\n",
    "def attempt_float(x):\n",
    "    try:\n",
    "        y = float(x)\n",
    "    except (TypeError, ValueError):\n",
    "        print(\"Value must be a float type\")\n",
    "        y = x\n",
    "    else: \n",
    "        print(\"Successful\")\n",
    "    finally:        \n",
    "        return y    \n",
    "\n",
    "print(attempt_float('1.2345')) \n",
    "print(attempt_float((1,2)))"
   ]
  },
  {
   "attachments": {
    "TypesSM.jpg": {
     "image/jpeg": "[encoded data removed]"
    }
   },
   "cell_type": "markdown",
   "metadata": {},
   "source": [
    "Type Annotations:\n",
    "Python is a dynamically typed language so in general it doesn't care about types as long as we use them correctly.\n",
    "\n",
    "Python 3.6 added type annotations allowing IDEs and other tools to use Types for auto completion and check for type errors.\n",
    "![TypesSM.jpg](attachment:TypesSM.jpg)"
   ]
  },
  {
   "cell_type": "code",
   "execution_count": 13,
   "metadata": {},
   "outputs": [
    {
     "name": "stdout",
     "output_type": "stream",
     "text": [
      "type hints, type hints\n"
     ]
    }
   ],
   "source": [
    "# Type Annotations\n",
    "# Note: Python 3.6 supports built in types by default. e.g. list or float\n",
    "def total(xs: list) -> float:\n",
    "    return sum(total)\n",
    "\n",
    "# However, for clarity, we want to define a list of floats and not \n",
    "# a list of strings, so we need to import from the typing module\n",
    "from typing import List   # Capital 'L' to distinguish from default\n",
    "\n",
    "def total(xs: List[float]) -> float:\n",
    "    return sum(total)\n",
    "\n",
    "# You can set types for variables but, it may not be that useful\n",
    "x: int = 5\n",
    "# however, sometimes the type of a variable is not obvious. You need a hint\n",
    "values = []\n",
    "best_so_far = None # What type is Values or best_so_far?\n",
    "\n",
    "from typing import Optional\n",
    "values: List[int] = []               # 'values' are a list of integers \n",
    "best_so_far: Optional[float] = None  # 'best_so_far' can be float or None\n",
    "\n",
    "# keys are strings, and values are ints for use in a dictionary\n",
    "from typing import Dict\n",
    "counts: Dict[str, int] = {'data': 1, 'science': 2}\n",
    "    \n",
    "# List and generator are are iterables\n",
    "from typing import Iterable\n",
    "lazy = True\n",
    "if lazy:\n",
    "    evens: Iterable[int] = (x for x in range(10) if x % 2 == 0)\n",
    "else:\n",
    "    evens = [0, 2, 4, 6, 8]\n",
    "\n",
    "# tuples specify a type for each element\n",
    "from typing import Tuple\n",
    "triple: Tuple[int, float, int] = (10, 2.3, 5)\n",
    "    \n",
    "# Even functions have types since they are treated like variables\n",
    "from typing import Callable\n",
    "# twice is a function whose argument is a function and returns a string\n",
    "# repeater is a function with two arguments, a string and an integer, and\n",
    "# returns a string. \n",
    "def twice(repeater: Callable[[str, int], str], s: str) -> str:\n",
    "    return repeater(s, 2)\n",
    "\n",
    "def comma_repeater(s: str, n: int) -> str:\n",
    "    n_copies = [s for _ in range(n)]\n",
    "    return ', '.join(n_copies)\n",
    "\n",
    "print(twice(comma_repeater, \"type hints\"))\n",
    "\n",
    "# You can create aliases of type annotations since they are Python objects\n",
    "Number = int\n",
    "Numbers = List[Number]\n",
    "\n",
    "def total(xs: Numbers) -> Numbers:\n",
    "    return sum(xs)\n",
    "\n",
    "# We will use Types in our function definition so next Functions"
   ]
  }
 ],
 "metadata": {
  "kernelspec": {
   "display_name": "Python 3",
   "language": "python",
   "name": "python3"
  },
  "language_info": {
   "codemirror_mode": {
    "name": "ipython",
    "version": 3
   },
   "file_extension": ".py",
   "mimetype": "text/x-python",
   "name": "python",
   "nbconvert_exporter": "python",
   "pygments_lexer": "ipython3",
   "version": "3.7.2"
  }
 },
 "nbformat": 4,
 "nbformat_minor": 2
}
