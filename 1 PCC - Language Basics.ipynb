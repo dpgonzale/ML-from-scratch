{
 "cells": [
  {
   "cell_type": "code",
   "execution_count": null,
   "metadata": {},
   "outputs": [],
   "source": [
    "# Whitespace formatting Note: use 4 spaces instead of tab\n",
    "for i in [1, 2, 3, 4, 5]:\n",
    "    print( i) # first line in \"for i\" block \n",
    "    for j in [1, 2, 3, 4, 5]: \n",
    "        print( j) # first line in \"for j\" block \n",
    "        print( i + j) # last line in \"for j\" block \n",
    "    print( i) # last line in \"for i\" block \n",
    "print(\" done looping\")"
   ]
  },
  {
   "cell_type": "code",
   "execution_count": 2,
   "metadata": {},
   "outputs": [
    {
     "name": "stdout",
     "output_type": "stream",
     "text": [
      "re.compile('[0-9]+', re.IGNORECASE)\n",
      "re.compile('[0-9]+', re.IGNORECASE)\n",
      "defaultdict(<class 'int'>, {})\n",
      "Counter()\n"
     ]
    }
   ],
   "source": [
    "# Modules - importing modules\n",
    "import re\n",
    "my_regex = re.compile(\"[0-9]+\", re.I)\n",
    "print(my_regex)\n",
    "\n",
    "# import module with alias\n",
    "import re as regex\n",
    "my_regex = regex.compile(\"[0-9]+\", regex.I)\n",
    "print(my_regex)\n",
    "\n",
    "# import specific funtions from a module\n",
    "from collections import defaultdict, Counter\n",
    "lookup = defaultdict(int)\n",
    "my_counter = Counter()\n",
    "print(lookup)\n",
    "print(my_counter)"
   ]
  },
  {
   "attachments": {
    "AssignVarSM.jpg": {
     "image/jpeg": "[encoded data removed]"
    }
   },
   "cell_type": "markdown",
   "metadata": {},
   "source": [
    "![AssignVarSM.jpg](attachment:AssignVarSM.jpg)\n",
    "a and b reference list [1, 2, 3] This is not a copy"
   ]
  },
  {
   "cell_type": "code",
   "execution_count": 3,
   "metadata": {},
   "outputs": [
    {
     "name": "stdout",
     "output_type": "stream",
     "text": [
      "[1, 2, 3]\n",
      "[1, 2, 3, 4]\n",
      "[1, 2, 3]\n"
     ]
    }
   ],
   "source": [
    "# Assignments or Binding (references)\n",
    "a = [1, 2, 3]   # 'a' = a list containing [1, 2, 3]\n",
    "b = a           # 'b' is a reference to 'a'\n",
    "c = list(a)\n",
    "print(b)        # 'c' is a true copy of 'a' \n",
    "\n",
    "a.append(4)     # add \"4\" to a list\n",
    "print(b)        # print 'b' shows addition of \"4\" to list\n",
    "print(c)        # 'c' is not modified since it is a copy of 'a'"
   ]
  },
  {
   "cell_type": "code",
   "execution_count": 4,
   "metadata": {},
   "outputs": [
    {
     "name": "stdout",
     "output_type": "stream",
     "text": [
      "True\n",
      "False\n",
      "True\n",
      "\n",
      "False\n",
      "True\n",
      "\n",
      "False\n",
      "True\n"
     ]
    }
   ],
   "source": [
    "# You can check if to references refer to the same object with 'is'\n",
    "print(a is b)\n",
    "print(a is c)\n",
    "print(b is not c)\n",
    "print()\n",
    "\n",
    "# Note: you check equality use '=='\n",
    "print(a == c)\n",
    "a = [1, 2, 3]\n",
    "print(a == c)\n",
    "print()\n",
    "\n",
    "# You can also check objects against None (null) using 'is'\n",
    "print(a is None)\n",
    "a = None\n",
    "print(a is None)"
   ]
  },
  {
   "cell_type": "code",
   "execution_count": 5,
   "metadata": {},
   "outputs": [
    {
     "name": "stdout",
     "output_type": "stream",
     "text": [
      "<class 'int'>\n",
      "<class 'str'>\n"
     ]
    }
   ],
   "source": [
    "# Object references have no type\n",
    "a = 5\n",
    "print(type(a))   # a is an int\n",
    "\n",
    "a = 'foo'\n",
    "print(type(a))   # a is now a string"
   ]
  },
  {
   "cell_type": "code",
   "execution_count": 6,
   "metadata": {},
   "outputs": [
    {
     "ename": "TypeError",
     "evalue": "can only concatenate str (not \"int\") to str",
     "output_type": "error",
     "traceback": [
      "\u001b[1;31m---------------------------------------------------------------------------\u001b[0m",
      "\u001b[1;31mTypeError\u001b[0m                                 Traceback (most recent call last)",
      "\u001b[1;32m<ipython-input-6-808ef54e37c7>\u001b[0m in \u001b[0;36m<module>\u001b[1;34m\u001b[0m\n\u001b[0;32m      1\u001b[0m \u001b[1;31m# However Objects are strongly typed\u001b[0m\u001b[1;33m\u001b[0m\u001b[1;33m\u001b[0m\u001b[1;33m\u001b[0m\u001b[0m\n\u001b[1;32m----> 2\u001b[1;33m \u001b[0mprint\u001b[0m\u001b[1;33m(\u001b[0m\u001b[1;34m'5'\u001b[0m \u001b[1;33m+\u001b[0m \u001b[1;36m5\u001b[0m\u001b[1;33m)\u001b[0m\u001b[1;33m\u001b[0m\u001b[1;33m\u001b[0m\u001b[0m\n\u001b[0m",
      "\u001b[1;31mTypeError\u001b[0m: can only concatenate str (not \"int\") to str"
     ]
    }
   ],
   "source": [
    "# However Objects are strongly typed\n",
    "print('5' + 5) "
   ]
  },
  {
   "cell_type": "code",
   "execution_count": 7,
   "metadata": {},
   "outputs": [
    {
     "name": "stdout",
     "output_type": "stream",
     "text": [
      "a is <class 'float'>, b is <class 'int'>\n",
      "2.25\n"
     ]
    }
   ],
   "source": [
    "# Objects are not automatically casted to another type\n",
    "# except in some obvious cirsumstances\n",
    "a = 4.5\n",
    "b = 2\n",
    "print('a is {0}, b is {1}'.format(type(a), type(b)))\n",
    "c = a / b\n",
    "print(c)\n",
    "# b was automatically casted to a float"
   ]
  },
  {
   "cell_type": "code",
   "execution_count": 8,
   "metadata": {},
   "outputs": [
    {
     "name": "stdout",
     "output_type": "stream",
     "text": [
      "True\n",
      "True\n"
     ]
    }
   ],
   "source": [
    "# Conditionaly check an object's type using isinstance()\n",
    "a = 5\n",
    "b = 4.5\n",
    "print(isinstance(a, int))          # check a is an int\n",
    "print(isinstance(b, (int, float))) # check if b is either an int or a float"
   ]
  },
  {
   "cell_type": "code",
   "execution_count": 9,
   "metadata": {},
   "outputs": [],
   "source": [
    "# Duck typing\n",
    "# Test is object is of a type by usage and catching the exception\n",
    "def isiterable(obj):\n",
    "    try:\n",
    "        iter(obj)\n",
    "        return True\n",
    "    except TypeError: # not an iterable\n",
    "        return False"
   ]
  },
  {
   "cell_type": "code",
   "execution_count": 10,
   "metadata": {},
   "outputs": [
    {
     "name": "stdout",
     "output_type": "stream",
     "text": [
      "True\n",
      "True\n",
      "False\n"
     ]
    }
   ],
   "source": [
    "print(isiterable('a string'))\n",
    "print(isiterable('[1, 2, 3]'))\n",
    "print(isiterable(5))"
   ]
  },
  {
   "cell_type": "code",
   "execution_count": null,
   "metadata": {},
   "outputs": [],
   "source": [
    "# Example use: Check parameter types and convert only if needed\n",
    "if not isinstance(x, list) and isiterable(x):\n",
    "    x = list(x)"
   ]
  },
  {
   "cell_type": "code",
   "execution_count": 12,
   "metadata": {},
   "outputs": [
    {
     "data": {
      "text/plain": [
       "'4.56 Argentine Pesos are worth US$1'"
      ]
     },
     "execution_count": 12,
     "metadata": {},
     "output_type": "execute_result"
    }
   ],
   "source": [
    "# String Formatting: https://docs.python.org/3.6/library/string.html\n",
    "template = '{0:.2f} {1:s} are worth US${2:d}'\n",
    "# {0:.2f} = 1st argument is a floating point number with two decimal places\n",
    "# {1:s} = 2nd argument is formatted as a string\n",
    "# {2:d} = 3rd argument is formatted as an integer\n",
    "# Example:\n",
    "template.format(4.5560, 'Argentine Pesos', 1)"
   ]
  },
  {
   "cell_type": "code",
   "execution_count": 14,
   "metadata": {},
   "outputs": [
    {
     "name": "stdout",
     "output_type": "stream",
     "text": [
      "29\n",
      "30\n",
      "2011-10-29\n",
      "20:30:21\n",
      "10/29/2011 20:30\n",
      "2009-10-31 00:00:00\n",
      "2011-10-29 20:00:00\n"
     ]
    }
   ],
   "source": [
    "# Dates and Times\n",
    "from datetime import datetime, date, time\n",
    "\n",
    "dt = datetime(2011, 10, 29, 20, 30, 21)\n",
    "print(dt.day)\n",
    "print(dt.minute)\n",
    "print(dt.date())\n",
    "print(dt.time())\n",
    "print(dt.strftime('%m/%d/%Y %H:%M')) # string format datetime\n",
    "print(datetime.strptime('20091031', '%Y%m%d')) # parse string into datetime\n",
    "print(dt.replace(minute=0, second=0))   # zero out minute and seconds of dt"
   ]
  },
  {
   "cell_type": "code",
   "execution_count": 15,
   "metadata": {},
   "outputs": [
    {
     "name": "stdout",
     "output_type": "stream",
     "text": [
      "<class 'datetime.timedelta'>\n",
      "17 days, 1:59:39\n"
     ]
    },
    {
     "data": {
      "text/plain": [
       "datetime.timedelta(days=17, seconds=7179)"
      ]
     },
     "execution_count": 15,
     "metadata": {},
     "output_type": "execute_result"
    }
   ],
   "source": [
    "# difference between two datetime objects is a timedelta type object\n",
    "dt2 = datetime(2011, 11, 15, 22, 30)\n",
    "delta = dt2 - dt\n",
    "print(type(delta))\n",
    "print(delta)\n",
    "delta"
   ]
  },
  {
   "cell_type": "code",
   "execution_count": 16,
   "metadata": {},
   "outputs": [
    {
     "name": "stdout",
     "output_type": "stream",
     "text": [
      "2011-10-29 20:30:21\n",
      "2011-11-15 22:30:00\n"
     ]
    }
   ],
   "source": [
    "# adding a timedelta to a datetime creates a new datetime object\n",
    "print(dt)\n",
    "print(dt + delta)"
   ]
  },
  {
   "cell_type": "code",
   "execution_count": 17,
   "metadata": {},
   "outputs": [
    {
     "name": "stdout",
     "output_type": "stream",
     "text": [
      "positive but smaller than 5\n",
      "Non-negative\n"
     ]
    }
   ],
   "source": [
    "# if, elif, else, pass and ternary expression \n",
    "x = 4\n",
    "if x < 0:\n",
    "    print(\"it's negative\")\n",
    "elif x == 0:\n",
    "    print(\"Equal to zero\")\n",
    "elif 0 < x < 5:\n",
    "    print(\"positive but smaller than 5\")\n",
    "else:\n",
    "    pass  # no-op usually because not implemented yet\n",
    "\n",
    "# ternary expression\n",
    "# value = true-expr if condition else false-expr\n",
    "x = 5\n",
    "print(\"Non-negative\" if x >= 0 else \"Negative\")"
   ]
  },
  {
   "cell_type": "code",
   "execution_count": 18,
   "metadata": {},
   "outputs": [
    {
     "name": "stdout",
     "output_type": "stream",
     "text": [
      "12 \n",
      "\n",
      "13 \n",
      "\n",
      "(0, 0)\n",
      "(1, 0)\n",
      "(1, 1)\n",
      "(2, 0)\n",
      "(2, 1)\n",
      "(2, 2)\n",
      "(3, 0)\n",
      "(3, 1)\n",
      "(3, 2)\n",
      "(3, 3)\n",
      "\n",
      "504 4\n"
     ]
    }
   ],
   "source": [
    "# for, while continue, break\n",
    "# For: for value in collection:\n",
    "#          do something with value\n",
    "sequence = [1, 2, None, 4, None, 5]\n",
    "total = 0\n",
    "\n",
    "for value in sequence:\n",
    "    if value is None:\n",
    "        continue       # Skip rest of if block\n",
    "    total += value\n",
    "print(total, \"\\n\")     # 12\n",
    "\n",
    "sequence = [1, 2, 0, 4, 6, 5, 2, 1]\n",
    "total_until_5 = 0\n",
    "\n",
    "for value in sequence:\n",
    "    if value == 5:\n",
    "        break           # Break out of for loop when sequence[i] = 5\n",
    "    total_until_5 += value\n",
    "print(total_until_5, \"\\n\")  # 13\n",
    "\n",
    "for i in range(4):\n",
    "    for j in range(4):  # Range function see below\n",
    "        if j > i:\n",
    "            break       # Break out of inner for loop only\n",
    "        print((i, j))\n",
    "print()\n",
    "        \n",
    "# While: while condition:\n",
    "#            do something until condition == False\n",
    "x = 256\n",
    "total = 0\n",
    "\n",
    "while x > 0:\n",
    "    if total > 500:     # loop until x is 0 or less than 0\n",
    "        break        # or break out of while when total is greater than 500\n",
    "    total += x\n",
    "    x = x // 2          # '//' = integer division (i.e. no remainder)    \n",
    "print(total, x)         # 504, 4  Broke out of loop at total > 500"
   ]
  },
  {
   "cell_type": "code",
   "execution_count": 19,
   "metadata": {},
   "outputs": [
    {
     "name": "stdout",
     "output_type": "stream",
     "text": [
      "range(0, 10)\n",
      "[0, 1, 2, 3, 4, 5, 6, 7, 8, 9] \n",
      "\n",
      "[0, 2, 4, 6, 8, 10, 12, 14, 16, 18]\n",
      "[5, 4, 3, 2, 1] \n",
      "\n",
      "1\n",
      "2\n",
      "3\n",
      "4\n",
      "\n",
      "46667\n"
     ]
    }
   ],
   "source": [
    "# range function - returns an iterator that yields a sequence of integers\n",
    "print(range(10))                    # range(0, 10)\n",
    "print(list(range(10)), \"\\n\")        # [0, 1, 2, 3, 4, 5, 6, 7, 8, 9]\n",
    "\n",
    "# range() arguments (start, stop, increment)\n",
    "print(list(range(0, 20, 2)))        # [0, 2, 4, 6, 8, 10, 12, 14, 16, 18]\n",
    "print(list(range(5, 0, -1)), \"\\n\")  # [5, 4, 3, 2, 1]\n",
    "\n",
    "seq = [1, 2, 3, 4]  # use range to iterate through a sequence by index\n",
    "for i in range(len(seq)):\n",
    "    val = seq[i]\n",
    "    print(val)\n",
    "print()\n",
    "\n",
    "sum = 0\n",
    "for i in range(100000):\n",
    "    # use range values directly. Note % = modulo operator\n",
    "    if i % 3 == 0 or i % 5 == 0: \n",
    "        sum += 1\n",
    "print(sum)"
   ]
  }
 ],
 "metadata": {
  "kernelspec": {
   "display_name": "Python 3",
   "language": "python",
   "name": "python3"
  },
  "language_info": {
   "codemirror_mode": {
    "name": "ipython",
    "version": 3
   },
   "file_extension": ".py",
   "mimetype": "text/x-python",
   "name": "python",
   "nbconvert_exporter": "python",
   "pygments_lexer": "ipython3",
   "version": "3.7.2"
  }
 },
 "nbformat": 4,
 "nbformat_minor": 2
}
