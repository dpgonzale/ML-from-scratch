{
 "cells": [
  {
   "cell_type": "code",
   "execution_count": 135,
   "metadata": {},
   "outputs": [
    {
     "name": "stdout",
     "output_type": "stream",
     "text": [
      "4 \n",
      "\n",
      "2\n",
      "5 \n",
      "\n",
      "0.06363636363636363\n",
      "35.49\n",
      "45.0 \n",
      "\n",
      "Jim Holden\n",
      "Jim Something\n",
      "What's-his-name Holden\n"
     ]
    }
   ],
   "source": [
    "# Functions - Although optional, from now on we will use Type Annotations\n",
    "\n",
    "# Argument 'x' is of type int and function 'double' returns type int\n",
    "def double(x: int) -> int: \n",
    "    return x * 2\n",
    "\n",
    "my_x = double(2)\n",
    "print(my_x, '\\n')\n",
    "\n",
    "# Functions can have functions as arguments however,\n",
    "# it needs to be of type Callable\n",
    "from typing import Callable\n",
    "\n",
    "def apply_to_one(f: Callable) -> int:\n",
    "    return f(1)\n",
    "\n",
    "x = apply_to_one(double)\n",
    "y = apply_to_one(lambda x: x + 4)\n",
    "print(x)\n",
    "print(y, '\\n')\n",
    "\n",
    "# Arguments can have default values and are therefore optional. They can \n",
    "# also be positinal or keyword arguments. NOTE: Keyward args must follow \n",
    "# positional args. Functions can have multiple return statements\n",
    "\n",
    "# 'x' is of type int or float, function 'my_function' returns a float\n",
    "def my_function(x: (int, float), y: int, z: float = 1.5) -> float:\n",
    "    if z > 1:\n",
    "        return z * (x + y)\n",
    "    else:\n",
    "        return z / (x + y)\n",
    "    \n",
    "print(my_function(5, 6, z = 0.7)) # use z as a keyword argument\n",
    "print(my_function(3.14, 7, 3.5))  # z is now a positional argument\n",
    "print(my_function(10, 20), '\\n')        # z is optional and 1.5 is default\n",
    "\n",
    "# Useful for printing strings\n",
    "def full_name(first = \"What's-his-name\", last = \"Something\"):\n",
    "    return first + \" \" + last\n",
    "\n",
    "print(full_name(\"Jim\", \"Holden\"))\n",
    "print(full_name(\"Jim\"))\n",
    "print(full_name(last=\"Holden\"))\n",
    "\n",
    "# Use triple quotes(\"\"\" \"\"\") to create Docstrings that can be retrieved by \n",
    "# python tools and IDEs. You can also use '?' in ipython and notebooks. \n",
    "def anotherdouble(x: int) -> int:\n",
    "    \"\"\" \n",
    "    This is where you put an optional docstring that explains what the\n",
    "    function does. For example this function multiplies it input by 2\n",
    "    \"\"\"\n",
    "    return x * 2"
   ]
  },
  {
   "cell_type": "code",
   "execution_count": 2,
   "metadata": {},
   "outputs": [
    {
     "name": "stdout",
     "output_type": "stream",
     "text": [
      "'a' is not defined since it is a local variable to 'func'\n",
      "[0, 1, 2, 3, 4]\n",
      "[0, 1, 2, 3, 4, 0, 1, 2, 3, 4]\n",
      "[]\n"
     ]
    }
   ],
   "source": [
    "# Namespaces (i.e. global and local scopes)\n",
    "try:   # if variable 'a' already exists in the namespace then delete \n",
    "    del a\n",
    "except:\n",
    "    pass\n",
    "\n",
    "def func() -> None:  # variable 'a' is of local scope\n",
    "    a = []\n",
    "    for i in range(5):\n",
    "        a.append(i)\n",
    "\n",
    "try:\n",
    "    print(a)\n",
    "except NameError:\n",
    "    print(r\"'a' is not defined since it is a local variable to 'func'\")\n",
    "\n",
    "a = []   # variable 'a' is of global scope\n",
    "def func() -> None:\n",
    "    for i in range(5):\n",
    "        a.append(i)\n",
    "func()\n",
    "print(a)\n",
    "func()\n",
    "print(a)\n",
    "\n",
    "# You can make a function's variable visible using the global keyword\n",
    "# This is generally considered bad form and you should use a class instead\n",
    "del a\n",
    "\n",
    "def bind_a_variable() -> None:\n",
    "    global a\n",
    "    a = []\n",
    "bind_a_variable()\n",
    "print(a)"
   ]
  },
  {
   "cell_type": "code",
   "execution_count": 4,
   "metadata": {},
   "outputs": [
    {
     "name": "stdout",
     "output_type": "stream",
     "text": [
      "(5, 6)\n",
      "15 50 \n",
      "\n",
      "<class 'tuple'>\n",
      "(5, 6, 7)\n",
      "5 6 7 \n",
      "\n",
      "<class 'dict'>\n",
      "{'a': 5, 'b': 6, 'c': 7}\n"
     ]
    }
   ],
   "source": [
    "# return multiple values from a function\n",
    "# Note: returns an object of type Tuple\n",
    "\n",
    "def sum_and_product(x: int, y: int) -> tuple:\n",
    "    return (x + y), (x * y)\n",
    "\n",
    "sp = sum_and_product(2, 3)\n",
    "print(sp)\n",
    "\n",
    "s, p = sum_and_product(5, 10)\n",
    "print(s, p, '\\n')\n",
    "\n",
    "# we can assign multiple variables from values returned from the function\n",
    "def f() -> tuple:\n",
    "    a = 5\n",
    "    b = 6\n",
    "    c = 7\n",
    "    return a, b, c\n",
    "\n",
    "a = f() \n",
    "print(type(a))  # a is a tuple\n",
    "print(a)\n",
    "b, c, d = f()   # automatic unpacking: b, c, d are ints\n",
    "print(b, c, d, '\\n')\n",
    "\n",
    "# We can also return multiple values using a dict\n",
    "def f() -> dict:\n",
    "    a = 5\n",
    "    b = 6\n",
    "    c = 7\n",
    "    return{'a': a, 'b': b, 'c': c}\n",
    "\n",
    "a = f()\n",
    "print(type(a))\n",
    "print(a)"
   ]
  },
  {
   "cell_type": "code",
   "execution_count": 18,
   "metadata": {},
   "outputs": [
    {
     "name": "stdout",
     "output_type": "stream",
     "text": [
      "True\n",
      "<re.Match object; span=(1, 2), match='a'>\n",
      "True\n",
      "True\n",
      "True\n"
     ]
    }
   ],
   "source": [
    "# Regular Expression - module - A way of searching text\n",
    "# Official documentation: https://docs.python.org/3/library/re.html\n",
    "# A few examples of how to use since regular expressions are commonly used \n",
    "import re\n",
    "# all examples below return True. Note: not negates an expression\n",
    "print(not re.match(\"a\", \"cat\"))  # 'cat' doesn't start with 'a'\n",
    "print(re.search(\"a\", \"cat\"))     # 'cat' has an 'a' in it\n",
    "print(not re.search(\"c\", \"dog\")) # 'dog' doesn't have a 'c' in it\n",
    "print(3 == len(re.split(\"[ab]\", \"carbs\"))) # split on a or c to ['c', 'r', 's']\n",
    "print(\"R-D-\" == re.sub(\"[0-9]\", \"-\", \"R2D2\")) # replace digits with dashes"
   ]
  },
  {
   "cell_type": "code",
   "execution_count": 134,
   "metadata": {},
   "outputs": [
    {
     "name": "stdout",
     "output_type": "stream",
     "text": [
      "<class 'list'>\n",
      "['Alabama', 'Georgia', 'Georgia', 'Georgia', 'Florida', 'South   Carolina', 'West Virginia']\n",
      "['Alabama', 'Georgia', 'Georgia', 'Georgia', 'Florida', 'South   Carolina', 'West Virginia'] \n",
      "\n",
      "['Alabama', 'Georgia', 'Georgia', 'Georgia', 'Florida', 'South   Carolina', 'West Virginia']\n",
      "['Alabama', 'Georgia', 'Georgia', 'Georgia', 'Florida', 'South   Carolina', 'West Virginia']\n"
     ]
    }
   ],
   "source": [
    "# Functions are Objects\n",
    "# Use a function to clean (pre-process) a dataset\n",
    "states = ['   Alabama ', 'Georgia!', 'Georgia', 'georgia', 'FlOrIda',\n",
    "          'south   carolina##', 'West virginia?']\n",
    "\n",
    "def clean_strings(strings: str) -> list:\n",
    "    result = []\n",
    "    for value in strings:\n",
    "        value = value.strip()\n",
    "        value = re.sub('[!#?]', '', value)\n",
    "        value = value.title()\n",
    "        result.append(value)\n",
    "    return result\n",
    "\n",
    "my_states = clean_strings(states)\n",
    "print(type(my_states))\n",
    "print(my_states)\n",
    "\n",
    "def remove_punctuation(value: str) -> str:\n",
    "    return re.sub('[!#?]', '', value)\n",
    "\n",
    "# operations performed above\n",
    "clean_ops = [str.strip, remove_punctuation, str.title]\n",
    "\n",
    "def clean_strings(strings: list, ops) -> list:\n",
    "    result = []\n",
    "    for value in strings:\n",
    "        for function in ops:\n",
    "            value = function(value)\n",
    "        result.append(value)\n",
    "    return result\n",
    "\n",
    "print(clean_strings(states, clean_ops), '\\n')\n",
    "\n",
    "# While you might be tempted use maps, use comprehensions instead\n",
    "rp = [remove_punctuation(x).strip().title() for x in states]\n",
    "print(rp)\n",
    "\n",
    "# or without remove_punctuation function:\n",
    "rp = [re.sub('[!#?]', '', x).strip().title() for x in states]\n",
    "print(rp)\n",
    "\n",
    "# Not recommended to use maps. use comprehensions instead\n",
    "#for x in map(remove_punctuation, states):  # don't do this\n",
    "#    print(x)    "
   ]
  },
  {
   "cell_type": "code",
   "execution_count": null,
   "metadata": {},
   "outputs": [],
   "source": []
  },
  {
   "cell_type": "code",
   "execution_count": 133,
   "metadata": {},
   "outputs": [],
   "source": [
    "# research Jupyter Notebook notification:\n",
    "# \"'_xsrf argument missing from POST\""
   ]
  },
  {
   "cell_type": "code",
   "execution_count": null,
   "metadata": {},
   "outputs": [],
   "source": []
  },
  {
   "cell_type": "code",
   "execution_count": 136,
   "metadata": {},
   "outputs": [
    {
     "name": "stdout",
     "output_type": "stream",
     "text": [
      "[8, 0, 2, 10, 12]\n",
      "[8, 0, 2, 10, 12] \n",
      "\n",
      "['aaaa', 'foo', 'abab', 'bar', 'card'] \n",
      "\n",
      "15\n",
      "15\n"
     ]
    }
   ],
   "source": [
    "# Anonymous (Lambda) Functions - single statement functions\n",
    "# Note: lambda functions do not need to be defined as a \n",
    "# dundar method (i.e. __name__) to be anonymous\n",
    "\n",
    "def short_function(x: int) -> int:  # Standard functionn definition\n",
    "    return x * 2\n",
    "\n",
    "# Equivalent lambda function. Note: if assigning to a variable, it is\n",
    "# better to use the traditional function and not the lambda\n",
    "result = lambda x: x * 2  # don't do this\n",
    "\n",
    "# Use Lambda function to pass a function as an argument\n",
    "ints = [4, 0, 1, 5, 6]\n",
    "\n",
    "def apply_to_list(some_list: list, f: callable):\n",
    "    return [f(x) for x in some_list] # passing a function as an argument\n",
    "\n",
    "result = apply_to_list(ints, lambda x: x * 2)\n",
    "print(result)       # don't do this use a comprehension instead\n",
    "\n",
    "my_result = [x * 2 for x in ints] # Same result using a comprehension\n",
    "print(my_result, '\\n')\n",
    "\n",
    "# Sort a group of strings by the number of unique letters in each string\n",
    "strings = ['foo', 'card', 'bar', 'aaaa', 'abab']\n",
    "# pass lambda function to strings.sort() method\n",
    "strings.sort(key=lambda x: len(set(list(x)))) \n",
    "print(strings, '\\n')\n",
    "\n",
    "# Currying-Partial Argument Application (derive new function from existing)\n",
    "\n",
    "# simple function to add two numbers\n",
    "def add_numbers(x: int, y: int) -> int:\n",
    "    return x + y\n",
    "\n",
    "# Use lambda function to create a new function that adds 5 to its argument\n",
    "add_five = lambda y: add_numbers(5, y) # 'y' is curried\n",
    "print(add_five(10))\n",
    "\n",
    "# Not recommended to use 'partial' function from 'functools' module\n",
    "from functools import partial\n",
    "add_another_five = partial(add_numbers, 5)\n",
    "print(add_another_five(10))"
   ]
  },
  {
   "cell_type": "code",
   "execution_count": null,
   "metadata": {},
   "outputs": [],
   "source": []
  },
  {
   "cell_type": "code",
   "execution_count": null,
   "metadata": {},
   "outputs": [],
   "source": [
    "# replace partial with a generator expression or comprehension"
   ]
  },
  {
   "cell_type": "code",
   "execution_count": null,
   "metadata": {},
   "outputs": [],
   "source": []
  },
  {
   "cell_type": "code",
   "execution_count": 74,
   "metadata": {},
   "outputs": [
    {
     "name": "stdout",
     "output_type": "stream",
     "text": [
      "CountingClicker(count=0) \n",
      "\n",
      "0\n",
      "2\n",
      "0\n",
      "\n",
      "0\n",
      "2\n",
      "2\n"
     ]
    }
   ],
   "source": [
    "# Classes - definition\n",
    "class CountingClicker:\n",
    "    \"\"\"A class can/should have a docstring, just like a function\"\"\"\n",
    "    # __init__ is a 'dunder' method constructor and is considered private\n",
    "    # 'self' refers to a particular instance of a class\n",
    "    def __init__(self, count = 0):\n",
    "        self.count = count\n",
    "        \n",
    "    def __repr__(self):\n",
    "        return f\"CountingClicker(count={self.count})\"\n",
    "    \n",
    "    # define public API functions\n",
    "    def click(self, num_times = 1):\n",
    "        \"\"\"Click the clicker some number of times\"\"\"\n",
    "        self.count += num_times\n",
    "        \n",
    "    def read(self):\n",
    "        return self.count\n",
    "    \n",
    "    def reset(self):\n",
    "        self.count = 0\n",
    "        \n",
    "clicker1 = CountingClicker()           # Clicker1 is initialized to 0\n",
    "clicker2 = CountingClicker(100)        # Clicker2 starts with count = 100\n",
    "clicker3 = CountingClicker(count=1000) # initialized using keyward argument\n",
    "print(repr(clicker1), '\\n')   # calls __repr__ function\n",
    "\n",
    "# let's use the class\n",
    "clicker = CountingClicker()           # Starts at 0\n",
    "print(clicker.read())                 # 0\n",
    "clicker.click()                       # increment num_times\n",
    "clicker.click()                       # increment num_times\n",
    "print(clicker.read())                 # 2 - after 2 clicks\n",
    "clicker.reset()                       # resets num_times back to 0\n",
    "print(clicker.read())                 # 0\n",
    "print()\n",
    "\n",
    "# Inheritance, subclasses and overiding\n",
    "# create a subclass of an existing class\n",
    "\n",
    "# CountingClicker is the parent or base class\n",
    "class NoResetClicker(CountingClicker): \n",
    "    # overide the reset method so that it cannot be reset\n",
    "    def reset(self):\n",
    "        pass         # Remember 'pass' is python's no operation method\n",
    "    \n",
    "clicker2 = NoResetClicker()           # Starts at 0\n",
    "print(clicker2.read())                # 0\n",
    "clicker2.click()                      # increment num_times\n",
    "clicker2.click()                      # increment num_times\n",
    "print(clicker2.read())                # 2 - after 2 clicks\n",
    "clicker2.reset()                      # resets num_times but no action\n",
    "print(clicker2.read())                # 2"
   ]
  },
  {
   "cell_type": "code",
   "execution_count": 89,
   "metadata": {},
   "outputs": [
    {
     "name": "stdout",
     "output_type": "stream",
     "text": [
      "8\n",
      "0\n",
      "g() only takes one argument\n",
      "\n",
      "unnamed args:  (1, 2)\n",
      "keyward args:  {'key': 'word', 'key2': 'word2'}\n",
      "None \n",
      "\n",
      "6\n",
      "6\n"
     ]
    }
   ],
   "source": [
    "# args and kwargs\n",
    "# This is less readable and should be used when there is no other option\n",
    "# A function that returns a new function returning twice the value of f\n",
    "def doubler(f):\n",
    "    def g(x):\n",
    "        return 2 * f(x)\n",
    "    return g\n",
    "\n",
    "def f1(x):\n",
    "    return x + 1\n",
    "\n",
    "g = doubler(f1)  # works for single argument functions\n",
    "print(g(3))       # 8\n",
    "print(g(-1))      # 0\n",
    "\n",
    "def f2(x, y):\n",
    "    return x + y\n",
    "\n",
    "g = doubler(f2)\n",
    "# Soesn't work if with more than one argument so we'll catch the exception\n",
    "try:\n",
    "    print(g(1, 2))\n",
    "except TypeError:\n",
    "    print(\"g() only takes one argument\")\n",
    "print()\n",
    "    \n",
    "# Solve this problem using argument unpacking. \n",
    "# Where you  don't specify how many argument in the function definition\n",
    "def magic(*args, **kwargs):\n",
    "    print(\"unnamed args: \", args)   # args = tuple of unnamed arguments\n",
    "    print(\"keyward args: \", kwargs) # kwargs = dict of named arguments\n",
    "\n",
    "print(magic(1, 2, key=\"word\", key2=\"word2\"), '\\n')\n",
    "\n",
    "# Works to unpack tuples and dicts to supply arguments to a function\n",
    "def other_way_magic(x, y, z):\n",
    "    return x + y + z\n",
    "\n",
    "x_y_list = [1, 2]  # list\n",
    "z_dict = {\"z\": 3}  # dict\n",
    "print(other_way_magic(*x_y_list, **z_dict)) # unpack x_y_list and z_dict\n",
    "\n",
    "# Failing example from above works now when using args and kwargs\n",
    "def doubler_correct(f):\n",
    "    \"\"\"Works no matter what kind of input f expects\"\"\"\n",
    "    def g(*args, **kwargs):\n",
    "        \"\"\"Whatever arguments g is supplied, pass them through to f\"\"\"\n",
    "        return 2 * f(*args, **kwargs)\n",
    "    return g\n",
    "\n",
    "g = doubler_correct(f2)\n",
    "print(g(1, 2))"
   ]
  },
  {
   "cell_type": "code",
   "execution_count": null,
   "metadata": {},
   "outputs": [],
   "source": []
  },
  {
   "cell_type": "code",
   "execution_count": 73,
   "metadata": {},
   "outputs": [],
   "source": [
    "# what is the type when a function returns a function?\n",
    "# research partial, map, reduce and filter"
   ]
  },
  {
   "cell_type": "code",
   "execution_count": null,
   "metadata": {},
   "outputs": [],
   "source": []
  },
  {
   "cell_type": "code",
   "execution_count": 92,
   "metadata": {},
   "outputs": [
    {
     "name": "stdout",
     "output_type": "stream",
     "text": [
      "SueÃ±a el rico en su riqueza,\n",
      "que mÃ¡s cuidados le ofrece;\n",
      "\n",
      "sueÃ±a el pobre que padece\n",
      "su miseria y su pobreza;\n",
      "\n",
      "sueÃ±a el que a medrar empieza,\n",
      "sueÃ±a el que afana y pretende,\n",
      "sueÃ±a el que agravia y ofende,\n",
      "\n",
      "y en el mundo, en conclusiÃ³n,\n",
      "todos sueÃ±an lo que son,\n",
      "aunque ninguno lo entiende.\n",
      "\n",
      "['SueÃ±a el rico en su riqueza,', 'que mÃ¡s cuidados le ofrece;', '', 'sueÃ±a el pobre que padece', 'su miseria y su pobreza;', '', 'sueÃ±a el que a medrar empieza,', 'sueÃ±a el que afana y pretende,', 'sueÃ±a el que agravia y ofende,', '', 'y en el mundo, en conclusiÃ³n,', 'todos sueÃ±an lo que son,', 'aunque ninguno lo entiende.', ''] \n",
      "\n",
      "['SueÃ±a el rico en su riqueza,', 'que mÃ¡s cuidados le ofrece;', '', 'sueÃ±a el pobre que padece', 'su miseria y su pobreza;', '', 'sueÃ±a el que a medrar empieza,', 'sueÃ±a el que afana y pretende,', 'sueÃ±a el que agravia y ofende,', '', 'y en el mundo, en conclusiÃ³n,', 'todos sueÃ±an lo que son,', 'aunque ninguno lo entiende.', '']\n"
     ]
    }
   ],
   "source": [
    "# files \n",
    "# open and close files: open(path) defaults to open(path, 'r'). \n",
    "# Be careful with open(path, 'w') since it will overwrite an existing file\n",
    "# use open(path, 'x') instead since this fails if a file already exists\n",
    "\n",
    "path = 'examples/segismundo.txt'\n",
    "f = open(path)\n",
    "for line in f:  # iterate through file\n",
    "    print(line.rstrip()) # strip out EOLs to make more readable\n",
    "    pass\n",
    "f.close()      # close file to release resources\n",
    "\n",
    "lines = [x.rstrip() for x in open(path)] # done as a comprehension\n",
    "print(lines, '\\n')\n",
    "\n",
    "# use 'with' to automatically close open files when done\n",
    "with open(path) as f:\n",
    "    lines = [x.rstrip() for x in f]\n",
    "print(lines)"
   ]
  },
  {
   "attachments": {
    "FilemodesSM.jpg": {
     "image/jpeg": "[encoded data removed]"
    }
   },
   "cell_type": "markdown",
   "metadata": {},
   "source": [
    "Common file modes\n",
    "![FilemodesSM.jpg](attachment:FilemodesSM.jpg)"
   ]
  },
  {
   "cell_type": "code",
   "execution_count": 93,
   "metadata": {},
   "outputs": [
    {
     "name": "stdout",
     "output_type": "stream",
     "text": [
      "SueÃ±a el  \n",
      "\n",
      "b'Sue\\xc3\\xb1a el '\n",
      "10\n",
      "10\n",
      "\n",
      "utf-8\n",
      "3\n",
      "Ã\n"
     ]
    }
   ],
   "source": [
    "# other file operations\n",
    "f = open(path)         # open(path, 'r'), open for reading\n",
    "print(f.read(10), '\\n')  # first 10 characters\n",
    "\n",
    "f2 = open(path, 'rb')  # Open for reading in binary mode\n",
    "print(f2.read(10))\n",
    "\n",
    "print(f.tell())        # file handle position - 10 since we read 10 bytes\n",
    "print(f2.tell())       # any difference between f & f2 is due to encoding\n",
    "print()\n",
    "\n",
    "# use sys (system) module to query file encoding\n",
    "import sys\n",
    "print(sys.getdefaultencoding()) # default OS encoding for files\n",
    "\n",
    "print(f.seek(3))       # change file handle position from begining of file\n",
    "print(f.read(1))       # print first character from new position\n",
    "\n",
    "f.close()              # remember to close the files\n",
    "f2.close()"
   ]
  },
  {
   "cell_type": "code",
   "execution_count": 94,
   "metadata": {},
   "outputs": [
    {
     "name": "stdout",
     "output_type": "stream",
     "text": [
      "['SueÃ±a el rico en su riqueza,\\n', 'que mÃ¡s cuidados le ofrece;\\n', 'sueÃ±a el pobre que padece\\n', 'su miseria y su pobreza;\\n', 'sueÃ±a el que a medrar empieza,\\n', 'sueÃ±a el que afana y pretende,\\n', 'sueÃ±a el que agravia y ofende,\\n', 'y en el mundo, en conclusiÃ³n,\\n', 'todos sueÃ±an lo que son,\\n', 'aunque ninguno lo entiende.\\n']\n"
     ]
    }
   ],
   "source": [
    "# Write to a file - use file.wrie or file.writelines\n",
    "with open('tmp.txt', 'w') as handle:\n",
    "    handle.writelines(x for x in open(path) if len(x) > 1)\n",
    "\n",
    "with open('tmp.txt') as f:\n",
    "    lines = f.readlines()\n",
    "    \n",
    "print(lines)"
   ]
  },
  {
   "attachments": {
    "FilemethodsSM2.jpg": {
     "image/jpeg": "[encoded data removed]"
    }
   },
   "cell_type": "markdown",
   "metadata": {},
   "source": [
    "Common file nethods\n",
    "![FilemethodsSM2.jpg](attachment:FilemethodsSM2.jpg)"
   ]
  },
  {
   "cell_type": "code",
   "execution_count": 95,
   "metadata": {},
   "outputs": [
    {
     "name": "stdout",
     "output_type": "stream",
     "text": [
      "SueÃ±a el \n",
      "b'Sue\\xc3\\xb1a el ' \n",
      "\n",
      "Sueña el \n",
      "Needs two characters to fully decode \n",
      "\n",
      "SueÃ±a el \n"
     ]
    }
   ],
   "source": [
    "# Bytes and Unicode\n",
    "with open(path) as f:\n",
    "    chars = f.read(10)  # read 10 characters using default encoding\n",
    "print(chars)\n",
    "\n",
    "with open(path, 'rb') as f: # read 10 characters as binary\n",
    "    data = f.read(10)    \n",
    "print(data, '\\n')\n",
    "\n",
    "print(data.decode('utf8'))  # decode binary characters to unicode\n",
    "\n",
    "# Fails since this character is encoded in two bytes across a boundary\n",
    "# we'll catch the exception\n",
    "try:\n",
    "    print(data[:4].decode('utf8'))\n",
    "except UnicodeDecodeError: \n",
    "    print(\"Needs two characters to fully decode\", '\\n')\n",
    "\n",
    "# use text mode to convert from one Unicode encoding to another\n",
    "sink_path = 'sink.txt'\n",
    "with open(path) as source:\n",
    "    with open(sink_path, 'wt', encoding='iso-8859-1') as sink: #use text mode\n",
    "        sink.write(source.read())\n",
    "        \n",
    "with open(sink_path, encoding='iso-8859-1') as f:\n",
    "    print(f.read(10))"
   ]
  },
  {
   "cell_type": "code",
   "execution_count": 96,
   "metadata": {},
   "outputs": [
    {
     "name": "stdout",
     "output_type": "stream",
     "text": [
      "SueÃ±\n",
      "4\n",
      "±\n"
     ]
    }
   ],
   "source": [
    "# careful using seek since if the file position falls in the middle of a \n",
    "# Unicode muli-byte defined encoding, reads will fail\n",
    "\n",
    "f = open(path)\n",
    "print(f.read(5))\n",
    "\n",
    "print(f.seek(4))\n",
    "\n",
    "# Can Fail if this character is encoded in two bytes across a boundary\n",
    "# we'll catch the exception\n",
    "try:\n",
    "    print(f.read(1))\n",
    "except UnicodeDecodeError: \n",
    "    print(\"Needs two characters to fully decode\", '\\n')\n",
    "f.close()"
   ]
  }
 ],
 "metadata": {
  "kernelspec": {
   "display_name": "Python 3",
   "language": "python",
   "name": "python3"
  },
  "language_info": {
   "codemirror_mode": {
    "name": "ipython",
    "version": 3
   },
   "file_extension": ".py",
   "mimetype": "text/x-python",
   "name": "python",
   "nbconvert_exporter": "python",
   "pygments_lexer": "ipython3",
   "version": "3.7.2"
  }
 },
 "nbformat": 4,
 "nbformat_minor": 2
}
